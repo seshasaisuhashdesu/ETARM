{
 "cells": [
  {
   "cell_type": "code",
   "execution_count": 1,
   "metadata": {},
   "outputs": [],
   "source": [
    "import pandas as pd\n",
    "import collections as c\n",
    "import numpy as np\n",
    "import heapq"
   ]
  },
  {
   "cell_type": "code",
   "execution_count": 2,
   "metadata": {},
   "outputs": [],
   "source": [
    "class RuleData:\n",
    "    def __init__(self,rule=((),()) ,support=0.0, confidence=0.0, expFlag=True):\n",
    "        self.rule=rule\n",
    "        self.support=support\n",
    "        self.confidence=confidence\n",
    "        self.expFlag=expFlag\n",
    "    def __lt__(self,r):\n",
    "        return self.support<r.support\n",
    "    def __str__(self):\n",
    "        return str(str(self.rule), str(self.support), str(self.confidence), str(self.expFlag))"
   ]
  },
  {
   "cell_type": "code",
   "execution_count": null,
   "metadata": {},
   "outputs": [],
   "source": []
  },
  {
   "cell_type": "code",
   "execution_count": null,
   "metadata": {},
   "outputs": [],
   "source": []
  },
  {
   "cell_type": "code",
   "execution_count": 3,
   "metadata": {},
   "outputs": [
    {
     "data": {
      "text/html": [
       "<div>\n",
       "<style scoped>\n",
       "    .dataframe tbody tr th:only-of-type {\n",
       "        vertical-align: middle;\n",
       "    }\n",
       "\n",
       "    .dataframe tbody tr th {\n",
       "        vertical-align: top;\n",
       "    }\n",
       "\n",
       "    .dataframe thead th {\n",
       "        text-align: right;\n",
       "    }\n",
       "</style>\n",
       "<table border=\"1\" class=\"dataframe\">\n",
       "  <thead>\n",
       "    <tr style=\"text-align: right;\">\n",
       "      <th></th>\n",
       "      <th>0</th>\n",
       "      <th>1</th>\n",
       "      <th>2</th>\n",
       "      <th>3</th>\n",
       "      <th>4</th>\n",
       "    </tr>\n",
       "  </thead>\n",
       "  <tbody>\n",
       "    <tr>\n",
       "      <td>0</td>\n",
       "      <td>1</td>\n",
       "      <td>2</td>\n",
       "      <td>3</td>\n",
       "      <td>4.0</td>\n",
       "      <td>5.0</td>\n",
       "    </tr>\n",
       "    <tr>\n",
       "      <td>1</td>\n",
       "      <td>1</td>\n",
       "      <td>2</td>\n",
       "      <td>4</td>\n",
       "      <td>5.0</td>\n",
       "      <td>NaN</td>\n",
       "    </tr>\n",
       "    <tr>\n",
       "      <td>2</td>\n",
       "      <td>2</td>\n",
       "      <td>3</td>\n",
       "      <td>5</td>\n",
       "      <td>NaN</td>\n",
       "      <td>NaN</td>\n",
       "    </tr>\n",
       "    <tr>\n",
       "      <td>3</td>\n",
       "      <td>1</td>\n",
       "      <td>2</td>\n",
       "      <td>4</td>\n",
       "      <td>5.0</td>\n",
       "      <td>NaN</td>\n",
       "    </tr>\n",
       "    <tr>\n",
       "      <td>4</td>\n",
       "      <td>1</td>\n",
       "      <td>2</td>\n",
       "      <td>3</td>\n",
       "      <td>5.0</td>\n",
       "      <td>NaN</td>\n",
       "    </tr>\n",
       "  </tbody>\n",
       "</table>\n",
       "</div>"
      ],
      "text/plain": [
       "   0  1  2    3    4\n",
       "0  1  2  3  4.0  5.0\n",
       "1  1  2  4  5.0  NaN\n",
       "2  2  3  5  NaN  NaN\n",
       "3  1  2  4  5.0  NaN\n",
       "4  1  2  3  5.0  NaN"
      ]
     },
     "execution_count": 3,
     "metadata": {},
     "output_type": "execute_result"
    }
   ],
   "source": [
    "#data = pd.read_csv(r'Datasets/chess.txt',sep=\" \",header=None)\n",
    "data = pd.read_csv(r'Datasets/sample.txt',sep=\" \",header=None)\n",
    "data.head()\n",
    "#df = pd.read_csv(filepath, chunksize=1, header=None, encoding='utf-8')"
   ]
  },
  {
   "cell_type": "code",
   "execution_count": 4,
   "metadata": {},
   "outputs": [],
   "source": [
    "# data.drop(37,axis=1,inplace=True)\n",
    "# data.head()\n",
    "# #data"
   ]
  },
  {
   "cell_type": "code",
   "execution_count": 5,
   "metadata": {},
   "outputs": [
    {
     "data": {
      "text/plain": [
       "[nan, 1.0, 2.0, 3.0, 4.0, 5.0, nan, nan, nan, nan, nan, nan]"
      ]
     },
     "execution_count": 5,
     "metadata": {},
     "output_type": "execute_result"
    }
   ],
   "source": [
    "itemset = list(set(data.values.flatten()))\n",
    "itemset"
   ]
  },
  {
   "cell_type": "code",
   "execution_count": 6,
   "metadata": {},
   "outputs": [
    {
     "data": {
      "text/plain": [
       "{1.0: [0, 1, 3, 4],\n",
       " 2.0: [0, 1, 2, 3, 4, 5],\n",
       " 3.0: [0, 2, 4, 5],\n",
       " 4.0: [0, 1, 3, 5],\n",
       " 5.0: [0, 1, 2, 3, 4]}"
      ]
     },
     "execution_count": 6,
     "metadata": {},
     "output_type": "execute_result"
    }
   ],
   "source": [
    "tidsets={}\n",
    "for i in range(len(data)):\n",
    "    for j in range(len(data.columns)):\n",
    "        val = data.iloc[i][j]\n",
    "        if pd.notna(val):\n",
    "            if val in tidsets:\n",
    "                tidsets[val].append(i)\n",
    "            else:\n",
    "                tidsets[val]=[i]\n",
    "tidsets"
   ]
  },
  {
   "cell_type": "code",
   "execution_count": 7,
   "metadata": {},
   "outputs": [],
   "source": [
    "# tidsets=[[]]\n",
    "# for i in itemset:\n",
    "#     tidsets.append([])\n",
    "# for i in range(len(data)):\n",
    "#     for j in range(len(data.columns)):\n",
    "#         val = data.iloc[i][j]\n",
    "#         tidsets[val-1].append(i)\n",
    "# tidsets"
   ]
  },
  {
   "cell_type": "code",
   "execution_count": 8,
   "metadata": {},
   "outputs": [
    {
     "data": {
      "text/plain": [
       "array([1., 2., 3., 4., 5.])"
      ]
     },
     "execution_count": 8,
     "metadata": {},
     "output_type": "execute_result"
    }
   ],
   "source": [
    "#[j for j in range(len(data)) if max((data==itemset[0]).iloc[j])==True]\n",
    "data.iloc[0].values"
   ]
  },
  {
   "cell_type": "code",
   "execution_count": 9,
   "metadata": {},
   "outputs": [],
   "source": [
    "minsup=0\n",
    "minconf=0.8\n",
    "k=3\n",
    "l=list()\n",
    "r=list()"
   ]
  },
  {
   "cell_type": "code",
   "execution_count": 10,
   "metadata": {},
   "outputs": [],
   "source": [
    "# itemcount = dict(c.Counter(data.values.flatten()))\n",
    "# itemcount"
   ]
  },
  {
   "cell_type": "code",
   "execution_count": 11,
   "metadata": {},
   "outputs": [],
   "source": [
    "class MyHeap(object):\n",
    "    def __init__(self, initial=None, key=lambda x:x):\n",
    "        self.key = key\n",
    "        if initial:\n",
    "                self._data = [(self.key(item), item) for item in initial]\n",
    "                heapq.heapify(self._data)\n",
    "        else:\n",
    "                self._data = []\n",
    "\n",
    "    def push(self, item):\n",
    "        heapq.heappush(self._data, (self.key(item), item))\n",
    "\n",
    "    def pop(self):\n",
    "        return heapq.heappop(self._data)[1]\n",
    "    def length(self):\n",
    "        return len(self._data)\n",
    "    def __str__(self):\n",
    "        str(self._data)"
   ]
  },
  {
   "cell_type": "code",
   "execution_count": null,
   "metadata": {},
   "outputs": [],
   "source": []
  },
  {
   "cell_type": "code",
   "execution_count": 12,
   "metadata": {},
   "outputs": [],
   "source": [
    "def support(rule=((),())):\n",
    "    if(isinstance(rule[0],int) or isinstance(rule[0],float)):\n",
    "        if(isinstance(rule[1],int) or isinstance(rule[1],float)):\n",
    "            rule=[[rule[0]],[rule[1]]]\n",
    "        elif(isinstance(rule[1],tuple)):\n",
    "            rule=[[rule[0]],list(rule[1])]\n",
    "    elif(isinstance(rule[1],int) or isinstance(rule[1],float)):\n",
    "        if(isinstance(rule[0],tuple)):\n",
    "            rule=[list(rule[0]), [rule[1]]]\n",
    "    items=rule[0]+rule[1]\n",
    "    sumRule=0\n",
    "    for i in range(len(data)):\n",
    "        flagRule=True\n",
    "        for j in items:\n",
    "            if j not in list(data.iloc[i,:]):\n",
    "                flagRule=False\n",
    "                break\n",
    "        if(flagRule):\n",
    "            sumRule+=1\n",
    "    return sumRule/len(data)"
   ]
  },
  {
   "cell_type": "code",
   "execution_count": 13,
   "metadata": {},
   "outputs": [
    {
     "data": {
      "text/plain": [
       "0.3333333333333333"
      ]
     },
     "execution_count": 13,
     "metadata": {},
     "output_type": "execute_result"
    }
   ],
   "source": [
    "support(((2,3),(1)))"
   ]
  },
  {
   "cell_type": "code",
   "execution_count": 14,
   "metadata": {},
   "outputs": [],
   "source": [
    "def confidence(rule=((),())):\n",
    "    #print(rule)\n",
    "    if(isinstance(rule[0],int) or isinstance(rule[0],float)):\n",
    "        if(isinstance(rule[1],int) or isinstance(rule[1],float)):\n",
    "            rule=[[rule[0]],[rule[1]]]\n",
    "        elif(isinstance(rule[1],tuple)):\n",
    "            rule=[[rule[0]],list(rule[1])]\n",
    "    elif(isinstance(rule[1],int) or isinstance(rule[1],float)):\n",
    "        if(isinstance(rule[0],tuple)):\n",
    "            rule=[list(rule[0]), [rule[1]]]\n",
    "    items=rule[0]+rule[1]\n",
    "    #print(rule)\n",
    "    #print(items)\n",
    "    sumRule=0\n",
    "    sumAntecedant=0\n",
    "    #The following can be optimized by bringing both under single loop block\n",
    "    for i in range(len(data)):\n",
    "        flagRule=True\n",
    "        for j in items:\n",
    "            if j not in list(data.iloc[i,:]):\n",
    "                flagRule=False\n",
    "                break\n",
    "        if(flagRule):\n",
    "            sumRule+=1\n",
    "            \n",
    "    for i in range(len(data)):\n",
    "        flagAntecedant=True\n",
    "        for j in rule[0]:\n",
    "            if j not in list(data.iloc[i,:]):\n",
    "                flagAntecedant=False\n",
    "                break\n",
    "        if(flagAntecedant):\n",
    "            sumAntecedant+=1\n",
    "            \n",
    "    return sumRule/sumAntecedant"
   ]
  },
  {
   "cell_type": "code",
   "execution_count": 15,
   "metadata": {},
   "outputs": [],
   "source": [
    "ruleDetails=dict()\n",
    "L=MyHeap(key=lambda x:-x.support)"
   ]
  },
  {
   "cell_type": "code",
   "execution_count": 16,
   "metadata": {},
   "outputs": [],
   "source": [
    "class Student:\n",
    "    def __init__(self, age, roll):\n",
    "        self.age=age\n",
    "        self.roll=roll"
   ]
  },
  {
   "cell_type": "code",
   "execution_count": 17,
   "metadata": {},
   "outputs": [],
   "source": [
    "J=MyHeap(key=lambda x:x.roll)"
   ]
  },
  {
   "cell_type": "code",
   "execution_count": 18,
   "metadata": {},
   "outputs": [],
   "source": [
    "J.push(Student(10,\"aaa\"))\n",
    "J.push(Student(20,\"bbb\"))\n",
    "J.push(Student(15,\"aba\"))"
   ]
  },
  {
   "cell_type": "code",
   "execution_count": 19,
   "metadata": {},
   "outputs": [
    {
     "data": {
      "text/plain": [
       "[('aaa', <__main__.Student at 0x122c76ed0>),\n",
       " ('bbb', <__main__.Student at 0x122c76e90>),\n",
       " ('aba', <__main__.Student at 0x122c76f10>)]"
      ]
     },
     "execution_count": 19,
     "metadata": {},
     "output_type": "execute_result"
    }
   ],
   "source": [
    "J._data"
   ]
  },
  {
   "cell_type": "code",
   "execution_count": 20,
   "metadata": {},
   "outputs": [
    {
     "data": {
      "text/plain": [
       "'aaa'"
      ]
     },
     "execution_count": 20,
     "metadata": {},
     "output_type": "execute_result"
    }
   ],
   "source": [
    "J.pop().roll"
   ]
  },
  {
   "cell_type": "code",
   "execution_count": 21,
   "metadata": {},
   "outputs": [
    {
     "data": {
      "text/plain": [
       "0.5"
      ]
     },
     "execution_count": 21,
     "metadata": {},
     "output_type": "execute_result"
    }
   ],
   "source": [
    "confidence(((2,3),(1)))"
   ]
  },
  {
   "cell_type": "code",
   "execution_count": 22,
   "metadata": {},
   "outputs": [],
   "source": [
    "def save(L,k,sup,conf,rule=((),())):\n",
    "    if(isinstance(rule[0],int) or isinstance(rule[0],float)):\n",
    "        if(isinstance(rule[1],int) or isinstance(rule[1],float)):\n",
    "            rule=[[rule[0]],[rule[1]]]\n",
    "        elif(isinstance(rule[1],tuple)):\n",
    "            rule=[[rule[0]],list(rule[1])]\n",
    "    elif(isinstance(rule[1],int) or isinstance(rule[1],float)):\n",
    "        if(isinstance(rule[0],tuple)):\n",
    "            rule=[list(rule[0]), [rule[1]]]\n",
    "    expFlag=True\n",
    "    if(rule[0][0]==largestElement):\n",
    "        expFlag=False\n",
    "    L.push(RuleData(rule,sup,conf,expFlag))\n",
    "    if(expFlag):\n",
    "        R.push(RuleData(rule,sup,conf,expFlag))\n",
    "    ruleData=RuleData()\n",
    "    q=list()\n",
    "    flag=False\n",
    "    for i in range(min(L.length(),k)):\n",
    "        q+=[L.pop()]\n",
    "        flag=True\n",
    "    if(L.length()>0):\n",
    "        ruleData=L.pop()\n",
    "        while(ruleData.support==q[-1].support):\n",
    "            q+=[ruleData]\n",
    "            if(L.length()>0):\n",
    "                ruleData=L.pop()\n",
    "            else:\n",
    "                break\n",
    "        \n",
    "        \n",
    "    if(not flag):\n",
    "        return L\n",
    "    else:\n",
    "        minsup=q[-1].support\n",
    "        return MyHeap(q, key=lambda x:-x.support) "
   ]
  },
  {
   "cell_type": "code",
   "execution_count": 23,
   "metadata": {},
   "outputs": [],
   "source": [
    "largestElement=max(tidsets.keys())"
   ]
  },
  {
   "cell_type": "code",
   "execution_count": 24,
   "metadata": {},
   "outputs": [],
   "source": [
    "R=MyHeap(key=lambda x:-x.support)"
   ]
  },
  {
   "cell_type": "code",
   "execution_count": 25,
   "metadata": {
    "scrolled": false
   },
   "outputs": [
    {
     "name": "stdout",
     "output_type": "stream",
     "text": [
      "[1.0, 2.0, 3.0, 4.0, 5.0]\n",
      "1.0\n",
      "((1.0,), (2.0,))\n",
      "1.0\n",
      "((1.0,), (5.0,))\n",
      "0.8\n",
      "((5.0,), (1.0,))\n",
      "1.0\n",
      "((3.0,), (2.0,))\n",
      "1.0\n",
      "((4.0,), (2.0,))\n",
      "0.8333333333333334\n",
      "((2.0,), (5.0,))\n",
      "1.0\n",
      "((5.0,), (2.0,))\n"
     ]
    }
   ],
   "source": [
    "items = list(tidsets.keys())\n",
    "print(items)\n",
    "for i in range(len(items)):\n",
    "    for j in range(i+1,len(items)):\n",
    "        if len(tidsets[items[i]])/len(data)>=minsup and len(tidsets[items[j]])/len(data)>=minsup:\n",
    "            \n",
    "            conf1=confidence(((items[i],),(items[j],)))\n",
    "            conf2=confidence(((items[j],),(items[i],)))\n",
    "            if conf1>=minconf:\n",
    "                ruleDetails[(items[i],items[j])]=support(((items[i],),(items[j],)))\n",
    "                print(conf1)\n",
    "                print(((items[i],),(items[j],)))\n",
    "                L = save(L,k,ruleDetails[(items[i],items[j])],conf1,((items[i],),(items[j],)))\n",
    "                \n",
    "            if conf2>=minconf:\n",
    "                ruleDetails[(items[j],items[i])]=support(((items[j],),(items[i],)))\n",
    "                print(conf2)\n",
    "                print(((items[j],),(items[i],)))\n",
    "                L = save(L,k,ruleDetails[(items[j],items[i])],conf2,((items[j],),(items[i],)))\n",
    "                "
   ]
  },
  {
   "cell_type": "code",
   "execution_count": 26,
   "metadata": {},
   "outputs": [
    {
     "name": "stdout",
     "output_type": "stream",
     "text": [
      "0.8333333333333334 ((5.0,), (2.0,)) False\n",
      "0.8333333333333334 ((2.0,), (5.0,)) True\n",
      "0.6666666666666666 ((5.0,), (1.0,)) False\n",
      "0.6666666666666666 ((3.0,), (2.0,)) True\n",
      "0.6666666666666666 ((4.0,), (2.0,)) True\n",
      "0.6666666666666666 ((1.0,), (5.0,)) True\n",
      "0.6666666666666666 ((1.0,), (2.0,)) True\n"
     ]
    }
   ],
   "source": [
    "for i in L._data:\n",
    "    print(i[1].support,i[1].rule,i[1].expFlag)"
   ]
  },
  {
   "cell_type": "code",
   "execution_count": 27,
   "metadata": {},
   "outputs": [
    {
     "data": {
      "text/plain": [
       "[(-0.8333333333333334, <__main__.RuleData at 0x122c76090>),\n",
       " (-0.8333333333333334, <__main__.RuleData at 0x1221b4f10>),\n",
       " (-0.6666666666666666, <__main__.RuleData at 0x122bff390>),\n",
       " (-0.6666666666666666, <__main__.RuleData at 0x121f554d0>),\n",
       " (-0.6666666666666666, <__main__.RuleData at 0x122c5f910>),\n",
       " (-0.6666666666666666, <__main__.RuleData at 0x122c5fd10>),\n",
       " (-0.6666666666666666, <__main__.RuleData at 0x122c9f790>)]"
      ]
     },
     "execution_count": 27,
     "metadata": {},
     "output_type": "execute_result"
    }
   ],
   "source": [
    "L._data"
   ]
  },
  {
   "cell_type": "code",
   "execution_count": 28,
   "metadata": {},
   "outputs": [
    {
     "data": {
      "text/html": [
       "<div>\n",
       "<style scoped>\n",
       "    .dataframe tbody tr th:only-of-type {\n",
       "        vertical-align: middle;\n",
       "    }\n",
       "\n",
       "    .dataframe tbody tr th {\n",
       "        vertical-align: top;\n",
       "    }\n",
       "\n",
       "    .dataframe thead th {\n",
       "        text-align: right;\n",
       "    }\n",
       "</style>\n",
       "<table border=\"1\" class=\"dataframe\">\n",
       "  <thead>\n",
       "    <tr style=\"text-align: right;\">\n",
       "      <th></th>\n",
       "      <th>0</th>\n",
       "      <th>1</th>\n",
       "      <th>2</th>\n",
       "      <th>3</th>\n",
       "      <th>4</th>\n",
       "    </tr>\n",
       "  </thead>\n",
       "  <tbody>\n",
       "    <tr>\n",
       "      <td>0</td>\n",
       "      <td>1</td>\n",
       "      <td>2</td>\n",
       "      <td>3</td>\n",
       "      <td>4.0</td>\n",
       "      <td>5.0</td>\n",
       "    </tr>\n",
       "    <tr>\n",
       "      <td>1</td>\n",
       "      <td>1</td>\n",
       "      <td>2</td>\n",
       "      <td>4</td>\n",
       "      <td>5.0</td>\n",
       "      <td>NaN</td>\n",
       "    </tr>\n",
       "    <tr>\n",
       "      <td>2</td>\n",
       "      <td>2</td>\n",
       "      <td>3</td>\n",
       "      <td>5</td>\n",
       "      <td>NaN</td>\n",
       "      <td>NaN</td>\n",
       "    </tr>\n",
       "    <tr>\n",
       "      <td>3</td>\n",
       "      <td>1</td>\n",
       "      <td>2</td>\n",
       "      <td>4</td>\n",
       "      <td>5.0</td>\n",
       "      <td>NaN</td>\n",
       "    </tr>\n",
       "    <tr>\n",
       "      <td>4</td>\n",
       "      <td>1</td>\n",
       "      <td>2</td>\n",
       "      <td>3</td>\n",
       "      <td>5.0</td>\n",
       "      <td>NaN</td>\n",
       "    </tr>\n",
       "    <tr>\n",
       "      <td>5</td>\n",
       "      <td>2</td>\n",
       "      <td>3</td>\n",
       "      <td>4</td>\n",
       "      <td>NaN</td>\n",
       "      <td>NaN</td>\n",
       "    </tr>\n",
       "  </tbody>\n",
       "</table>\n",
       "</div>"
      ],
      "text/plain": [
       "   0  1  2    3    4\n",
       "0  1  2  3  4.0  5.0\n",
       "1  1  2  4  5.0  NaN\n",
       "2  2  3  5  NaN  NaN\n",
       "3  1  2  4  5.0  NaN\n",
       "4  1  2  3  5.0  NaN\n",
       "5  2  3  4  NaN  NaN"
      ]
     },
     "execution_count": 28,
     "metadata": {},
     "output_type": "execute_result"
    }
   ],
   "source": [
    "data"
   ]
  },
  {
   "cell_type": "code",
   "execution_count": 29,
   "metadata": {},
   "outputs": [],
   "source": [
    "def ExpandL(ruleData,L,R,k):\n",
    "    candidateItems=set()\n",
    "    rule=ruleData.rule;\n",
    "    items=set(list(rule[0])+list(rule[1]))\n",
    "    for i in range(len(data)):\n",
    "        flag=True\n",
    "        for j in items:\n",
    "            if j not in data.iloc[i,:]:\n",
    "                flag=False\n",
    "        if(flag):\n",
    "            for x in data.iloc[i,:]:\n",
    "                if x not in items and x>max(rule[0]):\n",
    "                    candidateItems.add(x)\n",
    "    for c in candidateItems:\n",
    "        rnew=(ruleData.rule[0]+(c,), ruleData.rule[1])\n",
    "        sup=support(rnew)\n",
    "        if  sup>=minsup:\n",
    "            conf=confidence(rnew)\n",
    "            if conf>=minconf:\n",
    "                L=save(L,k,sup,conf,rnew)"
   ]
  },
  {
   "cell_type": "code",
   "execution_count": 30,
   "metadata": {},
   "outputs": [],
   "source": [
    "def ExpandR(ruleData,L,R,k):\n",
    "    candidateItems=set()\n",
    "    rule=ruleData.rule;\n",
    "    items=set(list(rule[0])+list(rule[1]))\n",
    "    for i in range(len(data)):\n",
    "        flag=True\n",
    "        for j in items:\n",
    "            if j not in data.iloc[i,:]:\n",
    "                flag=False\n",
    "        if(flag):\n",
    "            for x in data.iloc[i,:]:\n",
    "                if x not in items and x>max(rule[1]):\n",
    "                    candidateItems.add(x)\n",
    "    for c in candidateItems:\n",
    "        rnew=(ruleData.rule[0], ruleData.rule[1]+(c,))\n",
    "        sup=support(rnew)\n",
    "        if  sup>=minsup:\n",
    "            conf=confidence(rnew)\n",
    "            if conf>=minconf:\n",
    "                L=save(L,k,sup,conf,rnew)"
   ]
  },
  {
   "cell_type": "code",
   "execution_count": null,
   "metadata": {},
   "outputs": [],
   "source": []
  },
  {
   "cell_type": "code",
   "execution_count": null,
   "metadata": {},
   "outputs": [],
   "source": [
    "while(R.length()!=0):\n",
    "    ruleData=R.pop()\n",
    "    if ruleData.support>=minsup:\n",
    "        if(ruleData.expFlag):\n",
    "            L=ExpandL(ruleData,L,R,k)\n",
    "            L=ExpandR(ruleData,L,R,k)\n",
    "        else:\n",
    "            L=ExpandR(ruleData, L, R, k)\n",
    "    q=list()\n",
    "    flag=False\n",
    "    if R.length()>0:\n",
    "        ruleData=R.pop()\n",
    "        while(ruleData.support>=minsup):\n",
    "            q+=[ruleData]\n",
    "            flag=True\n",
    "    if(flag):\n",
    "        R =  MyHeap(q,lambda x:-x.support)"
   ]
  },
  {
   "cell_type": "code",
   "execution_count": null,
   "metadata": {},
   "outputs": [],
   "source": []
  },
  {
   "cell_type": "code",
   "execution_count": null,
   "metadata": {},
   "outputs": [],
   "source": []
  },
  {
   "cell_type": "code",
   "execution_count": null,
   "metadata": {},
   "outputs": [],
   "source": []
  },
  {
   "cell_type": "code",
   "execution_count": null,
   "metadata": {},
   "outputs": [],
   "source": []
  },
  {
   "cell_type": "code",
   "execution_count": null,
   "metadata": {},
   "outputs": [],
   "source": [
    "L.length()"
   ]
  },
  {
   "cell_type": "code",
   "execution_count": null,
   "metadata": {},
   "outputs": [],
   "source": [
    "ruleDetails"
   ]
  },
  {
   "cell_type": "code",
   "execution_count": null,
   "metadata": {},
   "outputs": [],
   "source": [
    "# summ=0\n",
    "# for i in range(data.shape[0]):\n",
    "#     flag=True\n",
    "#     for j in ((2,3)):\n",
    "#         if j not in list(data.iloc[i,:]):\n",
    "#             flag=False\n",
    "#             break\n",
    "#     if(flag):\n",
    "#         print(i)\n",
    "#         summ+=1"
   ]
  }
 ],
 "metadata": {
  "kernelspec": {
   "display_name": "Python 3",
   "language": "python",
   "name": "python3"
  },
  "language_info": {
   "codemirror_mode": {
    "name": "ipython",
    "version": 3
   },
   "file_extension": ".py",
   "mimetype": "text/x-python",
   "name": "python",
   "nbconvert_exporter": "python",
   "pygments_lexer": "ipython3",
   "version": "3.7.4"
  }
 },
 "nbformat": 4,
 "nbformat_minor": 2
}
